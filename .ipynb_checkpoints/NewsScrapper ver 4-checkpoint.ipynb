{
 "cells": [
  {
   "cell_type": "code",
   "execution_count": 2,
   "metadata": {},
   "outputs": [
    {
     "name": "stdout",
     "output_type": "stream",
     "text": [
      "Downloads Completed.\n"
     ]
    }
   ],
   "source": [
    "import requests\n",
    "from bs4 import BeautifulSoup\n",
    "import urllib\n",
    "import os\n",
    "import img2pdf\n",
    "from urllib.request import urlopen\n",
    "import datetime\n",
    "from zipfile import ZipFile\n",
    "\n",
    "internet_date = urlopen('http://just-the-time.appspot.com/')\n",
    "result = internet_date.read().strip()\n",
    "result_str = result.decode('utf-8')\n",
    "result_str = result_str.replace(\" \",\"-\")\n",
    "result_set = result_str.split(\"-\")\n",
    "final_date = result_set[2]+result_set[1]+result_set[0]\n",
    "\n",
    "DayList = ['MON','TUE','WED','THU','FRI','SAT','SUN']\n",
    "day_is = DayList[datetime.date(int(result_set[0]),int(result_set[1]),int(result_set[2])).weekday()]\n",
    "\n",
    "i = 0\n",
    "j=1\n",
    "c=0\n",
    "\n",
    "while(c!=2):\n",
    "    try:\n",
    "        urllib.request.urlretrieve(\"http://epaper.livehindustan.com/epaperimages//\"+final_date+\"//\"+final_date+\"-ng1r-del-\"+str(i)+str(j)+\".jpg\", \"local-filename\"+str(i*10+j)+\".jpg\")\n",
    "        j=j+1\n",
    "        c=0\n",
    "    except:\n",
    "        c=c+1\n",
    "        i = i+1\n",
    "        j = 0\n",
    "print(\"Downloads Completed.\")\n",
    "\n",
    "cwd = os.getcwd()\n",
    "file_name = day_is.upper()+result_set[0]+result_set[1]+result_set[2]\n",
    "\n",
    "with open(file_name+\".pdf\", \"wb\") as f:\n",
    "    f.write(img2pdf.convert([i for i in os.listdir(cwd) if i.endswith(\".jpg\")]))\n",
    "\n",
    "for i in os.listdir(cwd):\n",
    "    if i.endswith(\".jpg\"):\n",
    "        os.remove(i)\n",
    "        \n",
    "ZipFile(file_name+\".zip\", 'w').write(file_name+\".pdf\")\n",
    "ZipFile.close(ZipFile)\n",
    "\n",
    "\n"
   ]
  },
  {
   "cell_type": "code",
   "execution_count": 2,
   "metadata": {},
   "outputs": [
    {
     "ename": "SyntaxError",
     "evalue": "invalid syntax (<ipython-input-2-653fb95324ef>, line 1)",
     "output_type": "error",
     "traceback": [
      "\u001b[1;36m  File \u001b[1;32m\"<ipython-input-2-653fb95324ef>\"\u001b[1;36m, line \u001b[1;32m1\u001b[0m\n\u001b[1;33m    http://epaper.livehindustan.com/epaperimages//19102018//19102018-ng1r-del-01.jpg\u001b[0m\n\u001b[1;37m          ^\u001b[0m\n\u001b[1;31mSyntaxError\u001b[0m\u001b[1;31m:\u001b[0m invalid syntax\n"
     ]
    }
   ],
   "source": [
    "http://epaper.livehindustan.com/epaperimages//19102018//19102018-ng1r-del-01.jpg\n",
    "http://epaper.livehindustan.com/epaperimages//18102018//18102018-ng1r-del-01.jpg"
   ]
  },
  {
   "cell_type": "code",
   "execution_count": 14,
   "metadata": {},
   "outputs": [
    {
     "name": "stdout",
     "output_type": "stream",
     "text": [
      "FRI20181019\n"
     ]
    }
   ],
   "source": [
    "from urllib.request import urlopen\n",
    "import datetime\n",
    "\n",
    "internet_date = urlopen('http://just-the-time.appspot.com/')\n",
    "result = internet_date.read().strip()\n",
    "result_str = result.decode('utf-8')\n",
    "result_str = result_str.replace(\" \",\"-\")\n",
    "result_set = result_str.split(\"-\")\n",
    "final_date = result_set[2]+result_set[1]+result_set[0]\n",
    "file_name = result_set[0]+result_set[1]+result_set[2]\n",
    "DayList = ['MON','TUE','WED','THU','FRI','SAT','SUN']\n",
    "day_is = DayList[datetime.date(int(result_set[0]),int(result_set[1]),int(result_set[2])).weekday()]\n",
    "file_name = day_is.upper()+result_set[0]+result_set[1]+result_set[2]\n",
    "print(file_name)\n",
    "ZipFile(\"file_name1.zip\", 'w').write(file_name+\".pdf\")\n",
    "ZipFile.close(ZipFile)"
   ]
  },
  {
   "cell_type": "code",
   "execution_count": null,
   "metadata": {
    "collapsed": true
   },
   "outputs": [],
   "source": []
  }
 ],
 "metadata": {
  "kernelspec": {
   "display_name": "Python 3",
   "language": "python",
   "name": "python3"
  },
  "language_info": {
   "codemirror_mode": {
    "name": "ipython",
    "version": 3
   },
   "file_extension": ".py",
   "mimetype": "text/x-python",
   "name": "python",
   "nbconvert_exporter": "python",
   "pygments_lexer": "ipython3",
   "version": "3.6.3"
  }
 },
 "nbformat": 4,
 "nbformat_minor": 2
}
