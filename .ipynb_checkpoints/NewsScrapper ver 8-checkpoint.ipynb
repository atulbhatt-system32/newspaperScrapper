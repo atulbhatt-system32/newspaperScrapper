{
 "cells": [
  {
   "cell_type": "code",
   "execution_count": 2,
   "metadata": {},
   "outputs": [
    {
     "name": "stdout",
     "output_type": "stream",
     "text": [
      "Download start\n",
      "Download start\n",
      "Downloads Completed.\n"
     ]
    },
    {
     "data": {
      "text/plain": [
       "(221, b'2.0.0 closing connection z62sm41135003pfi.4 - gsmtp')"
      ]
     },
     "execution_count": 2,
     "metadata": {},
     "output_type": "execute_result"
    }
   ],
   "source": [
    "import requests\n",
    "from bs4 import BeautifulSoup\n",
    "import urllib\n",
    "import os\n",
    "import img2pdf\n",
    "from urllib.request import urlopen\n",
    "import datetime\n",
    "from zipfile import ZipFile\n",
    "from PyPDF2 import PdfFileMerger\n",
    "\n",
    "import smtplib\n",
    "from email.mime.multipart import MIMEMultipart\n",
    "from email.mime.text import MIMEText\n",
    "from email.mime.base import MIMEBase\n",
    "from email import encoders\n",
    "\n",
    "internet_date = urlopen('http://just-the-time.appspot.com/')\n",
    "result = internet_date.read().strip()\n",
    "result_str = result.decode('utf-8')\n",
    "result_str = result_str.replace(' ', '-')\n",
    "result_set = result_str.split('-')\n",
    "final_date = result_set[2] + result_set[1] + result_set[0]\n",
    "\n",
    "DayList = [\n",
    "    'MON',\n",
    "    'TUE',\n",
    "    'WED',\n",
    "    'THU',\n",
    "    'FRI',\n",
    "    'SAT',\n",
    "    'SUN',\n",
    "    ]\n",
    "day_is = DayList[datetime.date(int(result_set[0]), int(result_set[1]),\n",
    "                 int(result_set[2])).weekday()]\n",
    "\n",
    "i = 0\n",
    "j = 1\n",
    "c = 0\n",
    "\n",
    "while j != 3:\n",
    "    url = 'http://epaper.livehindustan.com/epaperimages/' + final_date \\\n",
    "        + '/' + final_date + '-NGR-DDN-' + str(i) + str(j) + '.PDF'\n",
    "    h = requests.head(url, allow_redirects=True)\n",
    "    header = h.headers\n",
    "    content_type = header.get('content-type')\n",
    "\n",
    "    if 'application/pdf' in content_type.lower():\n",
    "        print(\"Download start\")\n",
    "        urllib.request.urlretrieve(url, 'local-filename' + str(i * 10\n",
    "                                   + j) + '.pdf')\n",
    "        j = j + 1\n",
    "        c = 0\n",
    "    else:\n",
    "        c = c + 1\n",
    "        i = i + 1\n",
    "        j = 0\n",
    "\n",
    "print ('Downloads Completed.')\n",
    "\n",
    "cwd = os.getcwd()\n",
    "file_name = day_is.upper() + result_set[0] + result_set[1] \\\n",
    "    + result_set[2]\n",
    "\n",
    "merger = PdfFileMerger()\n",
    "x = [a for a in os.listdir(cwd) if a.endswith(\".pdf\")]    \n",
    "\n",
    "for pdf in x:\n",
    "    merger.append(open(pdf, 'rb'))\n",
    "\n",
    "with open(file_name+\".pdf\", \"wb\") as fout:\n",
    "    merger.write(fout)\n",
    "    \n",
    "\n",
    "#for i in os.listdir(cwd):\n",
    " #   if i.endswith('.pdf'):\n",
    "  #      os.remove(i)\n",
    "\n",
    "ZipFile(file_name + '.zip', 'w').write(file_name + '.pdf')\n",
    "ZipFile.close(ZipFile)\n",
    "\n",
    "fromaddr = 'deeparshu5@gmail.com'\n",
    "toaddr = 'atulbhatt98@gmail.com'\n",
    "cwd = os.getcwd()\n",
    "\n",
    "msg = MIMEMultipart()\n",
    "\n",
    "msg['From'] = fromaddr\n",
    "msg['To'] = toaddr\n",
    "msg['Subject'] = 'NEWS'\n",
    "\n",
    "body = 'Hardwork'\n",
    "\n",
    "msg.attach(MIMEText(body, 'plain'))\n",
    "\n",
    "outfilename = file_name + '.zip'\n",
    "\n",
    "file_to_open = os.path.join(cwd, outfilename)\n",
    "\n",
    "attachment = open(file_to_open, 'rb')\n",
    "\n",
    "part = MIMEBase('application', 'octet-stream')\n",
    "part.set_payload(attachment.read())\n",
    "encoders.encode_base64(part)\n",
    "part.add_header('Content-Disposition', 'attachment; filename= %s'\n",
    "                % outfilename)\n",
    "\n",
    "msg.attach(part)\n",
    "\n",
    "server = smtplib.SMTP('smtp.gmail.com', 587)\n",
    "server.starttls()\n",
    "server.login(fromaddr, 'hypothetical')\n",
    "text = msg.as_string()\n",
    "server.sendmail(fromaddr, toaddr, text)\n",
    "server.quit()\n"
   ]
  },
  {
   "cell_type": "code",
   "execution_count": 12,
   "metadata": {},
   "outputs": [
    {
     "name": "stdout",
     "output_type": "stream",
     "text": [
      "20122018\n",
      "application/pdf\n",
      "nothing\n",
      "done\n"
     ]
    }
   ],
   "source": []
  },
  {
   "cell_type": "code",
   "execution_count": null,
   "metadata": {},
   "outputs": [],
   "source": []
  },
  {
   "cell_type": "code",
   "execution_count": 55,
   "metadata": {},
   "outputs": [
    {
     "name": "stdout",
     "output_type": "stream",
     "text": [
      "18\n"
     ]
    }
   ],
   "source": [
    "import requests\n",
    "import datetime\n",
    "import urllib\n",
    "from urllib.request import urlopen\n",
    "from bs4 import BeautifulSoup\n",
    "\n",
    "\n",
    "page = requests.get(\"http://epaper.livehindustan.com/epaper/Uttarakhand/Rishikesh/2018-12-20/147/Page-1.html\")\n",
    "\n",
    "listli = soup.find_all('li',class_='hteDrop')\n",
    "\n",
    "print(listli[1].input['value'])\n"
   ]
  },
  {
   "cell_type": "code",
   "execution_count": null,
   "metadata": {
    "collapsed": true
   },
   "outputs": [],
   "source": []
  }
 ],
 "metadata": {
  "kernelspec": {
   "display_name": "Python 3",
   "language": "python",
   "name": "python3"
  },
  "language_info": {
   "codemirror_mode": {
    "name": "ipython",
    "version": 3
   },
   "file_extension": ".py",
   "mimetype": "text/x-python",
   "name": "python",
   "nbconvert_exporter": "python",
   "pygments_lexer": "ipython3",
   "version": "3.6.3"
  }
 },
 "nbformat": 4,
 "nbformat_minor": 2
}
