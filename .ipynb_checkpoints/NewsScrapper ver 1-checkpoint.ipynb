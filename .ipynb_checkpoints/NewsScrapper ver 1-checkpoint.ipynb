{
 "cells": [
  {
   "cell_type": "code",
   "execution_count": 1,
   "metadata": {},
   "outputs": [
    {
     "name": "stdout",
     "output_type": "stream",
     "text": [
      "EXists\n",
      "EXists\n",
      "EXists\n",
      "EXists\n",
      "EXists\n",
      "EXists\n",
      "EXists\n",
      "EXists\n",
      "EXists\n",
      "1\n",
      "EXists\n",
      "EXists\n",
      "EXists\n",
      "EXists\n",
      "EXists\n",
      "EXists\n",
      "EXists\n",
      "EXists\n",
      "EXists\n",
      "EXists\n",
      "1\n",
      "EXists\n",
      "EXists\n",
      "EXists\n",
      "EXists\n",
      "EXists\n",
      "EXists\n",
      "EXists\n",
      "EXists\n",
      "EXists\n",
      "EXists\n",
      "1\n",
      "EXists\n",
      "1\n",
      "2\n"
     ]
    }
   ],
   "source": [
    "import requests\n",
    "from bs4 import BeautifulSoup\n",
    "import urllib\n",
    "\n",
    "i = 0\n",
    "j=1\n",
    "c=0\n",
    "while(c!=2):\n",
    "    try:\n",
    "        urllib.request.urlretrieve(\"http://epaper.livehindustan.com/epaperimages//19102018//19102018-ng1r-del-\"+str(i)+str(j)+\".jpg\", \"local-filename\"+str(i*10+j)+\".jpg\")\n",
    "        j=j+1\n",
    "        c=0\n",
    "    except:\n",
    "        c=c+1\n",
    "        i = i+1\n",
    "        j = 0\n",
    "print(\"Downloads Completed.\")\n",
    "\n"
   ]
  },
  {
   "cell_type": "code",
   "execution_count": null,
   "metadata": {
    "collapsed": true
   },
   "outputs": [],
   "source": []
  },
  {
   "cell_type": "code",
   "execution_count": null,
   "metadata": {
    "collapsed": true
   },
   "outputs": [],
   "source": []
  },
  {
   "cell_type": "code",
   "execution_count": null,
   "metadata": {
    "collapsed": true
   },
   "outputs": [],
   "source": []
  }
 ],
 "metadata": {
  "kernelspec": {
   "display_name": "Python 3",
   "language": "python",
   "name": "python3"
  },
  "language_info": {
   "codemirror_mode": {
    "name": "ipython",
    "version": 3
   },
   "file_extension": ".py",
   "mimetype": "text/x-python",
   "name": "python",
   "nbconvert_exporter": "python",
   "pygments_lexer": "ipython3",
   "version": "3.6.3"
  }
 },
 "nbformat": 4,
 "nbformat_minor": 2
}
