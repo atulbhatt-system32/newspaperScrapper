{
 "cells": [
  {
   "cell_type": "code",
   "execution_count": 12,
   "metadata": {},
   "outputs": [
    {
     "name": "stdout",
     "output_type": "stream",
     "text": [
      "Downloads Completed.\n"
     ]
    },
    {
     "data": {
      "text/plain": [
       "(221, b'2.0.0 closing connection f22-v6sm52977052pff.29 - gsmtp')"
      ]
     },
     "execution_count": 12,
     "metadata": {},
     "output_type": "execute_result"
    }
   ],
   "source": [
    "import requests\n",
    "from bs4 import BeautifulSoup\n",
    "import urllib\n",
    "import os\n",
    "import img2pdf\n",
    "from urllib.request import urlopen\n",
    "import datetime\n",
    "from zipfile import ZipFile\n",
    "\n",
    "import smtplib\n",
    "from email.mime.multipart import MIMEMultipart\n",
    "from email.mime.text import MIMEText\n",
    "from email.mime.base import MIMEBase\n",
    "from email import encoders\n",
    "\n",
    "internet_date = urlopen('http://just-the-time.appspot.com/')\n",
    "result = internet_date.read().strip()\n",
    "result_str = result.decode('utf-8')\n",
    "result_str = result_str.replace(\" \",\"-\")\n",
    "result_set = result_str.split(\"-\")\n",
    "final_date = result_set[2]+result_set[1]+result_set[0]\n",
    "\n",
    "DayList = ['MON','TUE','WED','THU','FRI','SAT','SUN']\n",
    "day_is = DayList[datetime.date(int(result_set[0]),int(result_set[1]),int(result_set[2])).weekday()]\n",
    "\n",
    "i = 0\n",
    "j=1\n",
    "c=0\n",
    "\n",
    "while(c!=2):\n",
    "    url = \"http://epaper.livehindustan.com/epaperimages//\"+final_date+\"//\"+final_date+\"-ng1r-del-\"+str(i)+str(j)+\".jpg\"\n",
    "    h = requests.head(url, allow_redirects=True)\n",
    "    header = h.headers\n",
    "    content_type = header.get('content-type')\n",
    "        \n",
    "    if 'image/jpeg' in content_type.lower():\n",
    "        urllib.request.urlretrieve(url, \"local-filename\"+str(i*10+j)+\".jpg\")\n",
    "        j=j+1\n",
    "        c=0\n",
    "    else:\n",
    "        c=c+1\n",
    "        i = i+1\n",
    "        j = 0\n",
    "\n",
    "print(\"Downloads Completed.\")\n",
    "\n",
    "cwd = os.getcwd()\n",
    "file_name = day_is.upper()+result_set[0]+result_set[1]+result_set[2]\n",
    "\n",
    "with open(file_name+\".pdf\", \"wb\") as f:\n",
    "    f.write(img2pdf.convert([i for i in os.listdir(cwd) if i.endswith(\".jpg\")]))\n",
    "\n",
    "for i in os.listdir(cwd):\n",
    "    if i.endswith(\".jpg\"):\n",
    "        os.remove(i)\n",
    "        \n",
    "ZipFile(file_name+\".zip\", 'w').write(file_name+\".pdf\")\n",
    "ZipFile.close(ZipFile)\n",
    "\n",
    "fromaddr = \"deeparshu5@gmail.com\"\n",
    "toaddr = \"atulbhatt98@gmail.com\"\n",
    "cwd = os.getcwd()\n",
    "\n",
    "msg = MIMEMultipart()\n",
    "\n",
    "msg['From'] = fromaddr\n",
    "msg['To'] = toaddr\n",
    "msg['Subject'] = \"NEWS\"\n",
    "\n",
    "body = \"Hardwork\"\n",
    "\n",
    "msg.attach(MIMEText(body, 'plain'))\n",
    "\n",
    "outfilename = file_name+\".zip\"\n",
    "\n",
    "file_to_open = os.path.join(cwd, outfilename)\n",
    "\n",
    "attachment = open(file_to_open, \"rb\")\n",
    "\n",
    "part = MIMEBase('application', 'octet-stream')\n",
    "part.set_payload((attachment).read())\n",
    "encoders.encode_base64(part)\n",
    "part.add_header('Content-Disposition', \"attachment; filename= %s\" % outfilename)\n",
    "\n",
    "msg.attach(part)\n",
    "\n",
    "server = smtplib.SMTP('smtp.gmail.com', 587)\n",
    "server.starttls()\n",
    "server.login(fromaddr, \"hypothetical\")\n",
    "text = msg.as_string()\n",
    "server.sendmail(fromaddr, toaddr, text)\n",
    "server.quit()\n"
   ]
  },
  {
   "cell_type": "code",
   "execution_count": null,
   "metadata": {
    "collapsed": true
   },
   "outputs": [],
   "source": []
  },
  {
   "cell_type": "code",
   "execution_count": 2,
   "metadata": {},
   "outputs": [
    {
     "name": "stdout",
     "output_type": "stream",
     "text": [
      "C:\\Users\\System32\\Desktop\\NewsScrapper\\MON20181105.pdf\n"
     ]
    },
    {
     "ename": "FileNotFoundError",
     "evalue": "[WinError 2] The system cannot find the file specified",
     "output_type": "error",
     "traceback": [
      "\u001b[1;31m---------------------------------------------------------------------------\u001b[0m",
      "\u001b[1;31mFileNotFoundError\u001b[0m                         Traceback (most recent call last)",
      "\u001b[1;32m<ipython-input-2-31da5165a4ca>\u001b[0m in \u001b[0;36m<module>\u001b[1;34m()\u001b[0m\n\u001b[0;32m     15\u001b[0m                                   \u001b[1;34m'-dPDFSETTINGS=/screen'\u001b[0m\u001b[1;33m,\u001b[0m \u001b[1;34m'-dNOPAUSE'\u001b[0m\u001b[1;33m,\u001b[0m\u001b[1;33m\u001b[0m\u001b[0m\n\u001b[0;32m     16\u001b[0m                                   '-dBATCH', '-dQUIET', str(arg1), filename], \n\u001b[1;32m---> 17\u001b[1;33m                                  stdout=subprocess.PIPE)\n\u001b[0m\u001b[0;32m     18\u001b[0m             \u001b[0mprint\u001b[0m \u001b[1;33m(\u001b[0m\u001b[0mp\u001b[0m\u001b[1;33m.\u001b[0m\u001b[0mcommunicate\u001b[0m\u001b[1;33m(\u001b[0m\u001b[1;33m)\u001b[0m\u001b[1;33m)\u001b[0m\u001b[1;33m\u001b[0m\u001b[0m\n",
      "\u001b[1;32m~\\Anaconda3\\lib\\subprocess.py\u001b[0m in \u001b[0;36m__init__\u001b[1;34m(self, args, bufsize, executable, stdin, stdout, stderr, preexec_fn, close_fds, shell, cwd, env, universal_newlines, startupinfo, creationflags, restore_signals, start_new_session, pass_fds, encoding, errors)\u001b[0m\n\u001b[0;32m    707\u001b[0m                                 \u001b[0mc2pread\u001b[0m\u001b[1;33m,\u001b[0m \u001b[0mc2pwrite\u001b[0m\u001b[1;33m,\u001b[0m\u001b[1;33m\u001b[0m\u001b[0m\n\u001b[0;32m    708\u001b[0m                                 \u001b[0merrread\u001b[0m\u001b[1;33m,\u001b[0m \u001b[0merrwrite\u001b[0m\u001b[1;33m,\u001b[0m\u001b[1;33m\u001b[0m\u001b[0m\n\u001b[1;32m--> 709\u001b[1;33m                                 restore_signals, start_new_session)\n\u001b[0m\u001b[0;32m    710\u001b[0m         \u001b[1;32mexcept\u001b[0m\u001b[1;33m:\u001b[0m\u001b[1;33m\u001b[0m\u001b[0m\n\u001b[0;32m    711\u001b[0m             \u001b[1;31m# Cleanup if the child failed starting.\u001b[0m\u001b[1;33m\u001b[0m\u001b[1;33m\u001b[0m\u001b[0m\n",
      "\u001b[1;32m~\\Anaconda3\\lib\\subprocess.py\u001b[0m in \u001b[0;36m_execute_child\u001b[1;34m(self, args, executable, preexec_fn, close_fds, pass_fds, cwd, env, startupinfo, creationflags, shell, p2cread, p2cwrite, c2pread, c2pwrite, errread, errwrite, unused_restore_signals, unused_start_new_session)\u001b[0m\n\u001b[0;32m    995\u001b[0m                                          \u001b[0menv\u001b[0m\u001b[1;33m,\u001b[0m\u001b[1;33m\u001b[0m\u001b[0m\n\u001b[0;32m    996\u001b[0m                                          \u001b[0mos\u001b[0m\u001b[1;33m.\u001b[0m\u001b[0mfspath\u001b[0m\u001b[1;33m(\u001b[0m\u001b[0mcwd\u001b[0m\u001b[1;33m)\u001b[0m \u001b[1;32mif\u001b[0m \u001b[0mcwd\u001b[0m \u001b[1;32mis\u001b[0m \u001b[1;32mnot\u001b[0m \u001b[1;32mNone\u001b[0m \u001b[1;32melse\u001b[0m \u001b[1;32mNone\u001b[0m\u001b[1;33m,\u001b[0m\u001b[1;33m\u001b[0m\u001b[0m\n\u001b[1;32m--> 997\u001b[1;33m                                          startupinfo)\n\u001b[0m\u001b[0;32m    998\u001b[0m             \u001b[1;32mfinally\u001b[0m\u001b[1;33m:\u001b[0m\u001b[1;33m\u001b[0m\u001b[0m\n\u001b[0;32m    999\u001b[0m                 \u001b[1;31m# Child is launched. Close the parent's copy of those pipe\u001b[0m\u001b[1;33m\u001b[0m\u001b[1;33m\u001b[0m\u001b[0m\n",
      "\u001b[1;31mFileNotFoundError\u001b[0m: [WinError 2] The system cannot find the file specified"
     ]
    }
   ],
   "source": [
    "from __future__ import print_function\n",
    "import os\n",
    "import subprocess\n",
    "\n",
    "cwd = os.getcwd()\n",
    "for root, dirs, files in os.walk(cwd):\n",
    "    for file in files:\n",
    "        if file.endswith(\".pdf\"):\n",
    "            filename = os.path.join(root, file)\n",
    "            print (filename)\n",
    "            arg1= '-sOutputFile=' + \"c\" +  file #added a c to the filename\n",
    "            p = subprocess.Popen(['C:/Program Files/gs/gs9.15/bin/gswin64c.exe',\n",
    "                                  '-sDEVICE=pdfwrite', \n",
    "                                  '-dCompatibilityLevel=1.4', \n",
    "                                  '-dPDFSETTINGS=/screen', '-dNOPAUSE', \n",
    "                                  '-dBATCH', '-dQUIET', str(arg1), filename], \n",
    "                                 stdout=subprocess.PIPE)\n",
    "            print (p.communicate())"
   ]
  },
  {
   "cell_type": "code",
   "execution_count": null,
   "metadata": {
    "collapsed": true
   },
   "outputs": [],
   "source": []
  },
  {
   "cell_type": "code",
   "execution_count": null,
   "metadata": {
    "collapsed": true
   },
   "outputs": [],
   "source": []
  }
 ],
 "metadata": {
  "kernelspec": {
   "display_name": "Python 3",
   "language": "python",
   "name": "python3"
  },
  "language_info": {
   "codemirror_mode": {
    "name": "ipython",
    "version": 3
   },
   "file_extension": ".py",
   "mimetype": "text/x-python",
   "name": "python",
   "nbconvert_exporter": "python",
   "pygments_lexer": "ipython3",
   "version": "3.6.3"
  }
 },
 "nbformat": 4,
 "nbformat_minor": 2
}
