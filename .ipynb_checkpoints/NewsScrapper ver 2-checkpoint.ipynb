{
 "cells": [
  {
   "cell_type": "code",
   "execution_count": null,
   "metadata": {},
   "outputs": [],
   "source": [
    "import requests\n",
    "from bs4 import BeautifulSoup\n",
    "import urllib\n",
    "import os\n",
    "from fpdf import FPDF\n",
    "import img2pdf\n",
    "\n",
    "i = 0\n",
    "j=1\n",
    "c=0\n",
    "\n",
    "while(c!=2):\n",
    "    try:\n",
    "        urllib.request.urlretrieve(\"http://epaper.livehindustan.com/epaperimages//19102018//19102018-ng1r-del-\"+str(i)+str(j)+\".jpg\", \"local-filename\"+str(i*10+j)+\".jpg\")\n",
    "        j=j+1\n",
    "        c=0\n",
    "    except:\n",
    "        c=c+1\n",
    "        i = i+1\n",
    "        j = 0\n",
    "print(\"Downloads Completed.\")\n",
    "\n",
    "cwd = os.getcwd()\n",
    "with open(\"output.pdf\", \"wb\") as f:\n",
    "    f.write(img2pdf.convert([i for i in os.listdir(cwd) if i.endswith(\".jpg\")]))\n",
    "\n",
    "for i in os.listdir(cwd):\n",
    "    if i.endswith(\".jpg\"):\n",
    "        os.remove(i)"
   ]
  },
  {
   "cell_type": "code",
   "execution_count": null,
   "metadata": {
    "collapsed": true
   },
   "outputs": [],
   "source": [
    "import requests\n",
    "from bs4 import BeautifulSoup\n",
    "import urllib\n",
    "import os\n",
    "from fpdf import FPDF\n",
    "import img2pdf\n",
    "\n",
    "i = 0\n",
    "j=1\n",
    "c=0\n",
    "\n",
    "internet_date = urlopen('http://just-the-time.appspot.com/')\n",
    "result = internet_date.read().strip()\n",
    "result_str = result.decode('utf-8')\n",
    "result_str = result_str.replace(' ', '-')\n",
    "result_set = result_str.split('-')\n",
    "final_date = result_set[2] + result_set[1] + result_set[0]\n",
    "\n",
    "DayList = [\n",
    "    'MON',\n",
    "    'TUE',\n",
    "    'WED',\n",
    "    'THU',\n",
    "    'FRI',\n",
    "    'SAT',\n",
    "    'SUN',\n",
    "    ]\n",
    "day_is = DayList[datetime.date(int(result_set[0]), int(result_set[1]),\n",
    "                 int(result_set[2])).weekday()]\n",
    "\n",
    "\n",
    "half_url = \"http://epaper.livehindustan.com/epaperimages//\"\n",
    "\n",
    "while(c!=2):\n",
    "    try:\n",
    "        urllib.request.urlretrieve(\"http://epaper.livehindustan.com/epaperimages//19102018//19102018-ng1r-del-\"+str(i)+str(j)+\".jpg\", \"local-filename\"+str(i*10+j)+\".jpg\")\n",
    "        j=j+1\n",
    "        c=0\n",
    "    except:\n",
    "        c=c+1\n",
    "        i = i+1\n",
    "        j = 0\n",
    "print(\"Downloads Completed.\")\n",
    "\n",
    "cwd = os.getcwd()\n",
    "with open(\"output.pdf\", \"wb\") as f:\n",
    "    f.write(img2pdf.convert([i for i in os.listdir(cwd) if i.endswith(\".jpg\")]))\n",
    "\n",
    "for i in os.listdir(cwd):\n",
    "    if i.endswith(\".jpg\"):\n",
    "        os.remove(i)"
   ]
  },
  {
   "cell_type": "code",
   "execution_count": null,
   "metadata": {
    "collapsed": true
   },
   "outputs": [],
   "source": []
  },
  {
   "cell_type": "code",
   "execution_count": null,
   "metadata": {
    "collapsed": true
   },
   "outputs": [],
   "source": []
  }
 ],
 "metadata": {
  "kernelspec": {
   "display_name": "Python 3",
   "language": "python",
   "name": "python3"
  },
  "language_info": {
   "codemirror_mode": {
    "name": "ipython",
    "version": 3
   },
   "file_extension": ".py",
   "mimetype": "text/x-python",
   "name": "python",
   "nbconvert_exporter": "python",
   "pygments_lexer": "ipython3",
   "version": "3.6.3"
  }
 },
 "nbformat": 4,
 "nbformat_minor": 2
}
